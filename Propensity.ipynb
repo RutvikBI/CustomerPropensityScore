{
  "nbformat": 4,
  "nbformat_minor": 0,
  "metadata": {
    "kernelspec": {
      "display_name": "Python 2",
      "language": "python",
      "name": "python2"
    },
    "language_info": {
      "codemirror_mode": {
        "name": "ipython",
        "version": 2
      },
      "file_extension": ".py",
      "mimetype": "text/x-python",
      "name": "python",
      "nbconvert_exporter": "python",
      "pygments_lexer": "ipython2",
      "version": "2.7.11"
    },
    "colab": {
      "name": "Propensity.ipynb",
      "provenance": []
    }
  },
  "cells": [
    {
      "cell_type": "code",
      "metadata": {
        "id": "9Og195-xXUGx",
        "colab_type": "code",
        "colab": {
          "base_uri": "https://localhost:8080/",
          "height": 34
        },
        "outputId": "e0e762b0-6a18-4404-92ac-b1c9490c04c0"
      },
      "source": [
        "from google.colab import drive\n",
        "drive.mount('/content/drive')"
      ],
      "execution_count": 3,
      "outputs": [
        {
          "output_type": "stream",
          "text": [
            "Drive already mounted at /content/drive; to attempt to forcibly remount, call drive.mount(\"/content/drive\", force_remount=True).\n"
          ],
          "name": "stdout"
        }
      ]
    },
    {
      "cell_type": "markdown",
      "metadata": {
        "id": "cEWAf2Y8WMRc",
        "colab_type": "text"
      },
      "source": [
        " #  <p style=\"text-align: center;\">Predicting Prospect Propensity</p> "
      ]
    },
    {
      "cell_type": "code",
      "metadata": {
        "scrolled": true,
        "id": "vgdKi5uQWMRn",
        "colab_type": "code",
        "colab": {
          "base_uri": "https://localhost:8080/",
          "height": 238
        },
        "outputId": "81ccd834-d98c-4074-e6a6-aef735a456e2"
      },
      "source": [
        "from pandas import Series, DataFrame\n",
        "import pandas as pd\n",
        "import numpy as np\n",
        "import os\n",
        "import matplotlib.pylab as plt\n",
        "from sklearn.model_selection  import train_test_split\n",
        "from sklearn.tree import DecisionTreeClassifier\n",
        "from sklearn.metrics import classification_report\n",
        "import sklearn.metrics\n",
        "\n",
        "web_clicks_data = pd.read_csv(\"/content/drive/My Drive/Datasets/propensity.csv\")\n",
        "\n",
        "web_clicks_data.dtypes"
      ],
      "execution_count": 4,
      "outputs": [
        {
          "output_type": "execute_result",
          "data": {
            "text/plain": [
              "SESSION_ID         int64\n",
              "IMAGES             int64\n",
              "REVIEWS            int64\n",
              "FAQ                int64\n",
              "SPECS              int64\n",
              "SHIPPING           int64\n",
              "BOUGHT_TOGETHER    int64\n",
              "COMPARE_SIMILAR    int64\n",
              "VIEW_SIMILAR       int64\n",
              "WARRANTY           int64\n",
              "SPONSORED_LINKS    int64\n",
              "BUY                int64\n",
              "dtype: object"
            ]
          },
          "metadata": {
            "tags": []
          },
          "execution_count": 4
        }
      ]
    },
    {
      "cell_type": "code",
      "metadata": {
        "id": "CsITzm6WWMR4",
        "colab_type": "code",
        "colab": {
          "base_uri": "https://localhost:8080/",
          "height": 204
        },
        "outputId": "e0f8fc44-3c43-437d-cf9f-b0f8e43c9162"
      },
      "source": [
        "# Look at the top records to understand how the data looks like.\n",
        "web_clicks_data.head()"
      ],
      "execution_count": 5,
      "outputs": [
        {
          "output_type": "execute_result",
          "data": {
            "text/plain": [
              "   SESSION_ID  IMAGES  REVIEWS  ...  WARRANTY  SPONSORED_LINKS  BUY\n",
              "0        1001       0        0  ...         1                0    0\n",
              "1        1002       0        1  ...         0                1    0\n",
              "2        1003       1        0  ...         1                0    0\n",
              "3        1004       1        0  ...         0                0    0\n",
              "4        1005       1        1  ...         0                0    0\n",
              "\n",
              "[5 rows x 12 columns]"
            ],
            "text/html": [
              "<div>\n",
              "<style scoped>\n",
              "    .dataframe tbody tr th:only-of-type {\n",
              "        vertical-align: middle;\n",
              "    }\n",
              "\n",
              "    .dataframe tbody tr th {\n",
              "        vertical-align: top;\n",
              "    }\n",
              "\n",
              "    .dataframe thead th {\n",
              "        text-align: right;\n",
              "    }\n",
              "</style>\n",
              "<table border=\"1\" class=\"dataframe\">\n",
              "  <thead>\n",
              "    <tr style=\"text-align: right;\">\n",
              "      <th></th>\n",
              "      <th>SESSION_ID</th>\n",
              "      <th>IMAGES</th>\n",
              "      <th>REVIEWS</th>\n",
              "      <th>FAQ</th>\n",
              "      <th>SPECS</th>\n",
              "      <th>SHIPPING</th>\n",
              "      <th>BOUGHT_TOGETHER</th>\n",
              "      <th>COMPARE_SIMILAR</th>\n",
              "      <th>VIEW_SIMILAR</th>\n",
              "      <th>WARRANTY</th>\n",
              "      <th>SPONSORED_LINKS</th>\n",
              "      <th>BUY</th>\n",
              "    </tr>\n",
              "  </thead>\n",
              "  <tbody>\n",
              "    <tr>\n",
              "      <th>0</th>\n",
              "      <td>1001</td>\n",
              "      <td>0</td>\n",
              "      <td>0</td>\n",
              "      <td>1</td>\n",
              "      <td>0</td>\n",
              "      <td>1</td>\n",
              "      <td>0</td>\n",
              "      <td>0</td>\n",
              "      <td>0</td>\n",
              "      <td>1</td>\n",
              "      <td>0</td>\n",
              "      <td>0</td>\n",
              "    </tr>\n",
              "    <tr>\n",
              "      <th>1</th>\n",
              "      <td>1002</td>\n",
              "      <td>0</td>\n",
              "      <td>1</td>\n",
              "      <td>1</td>\n",
              "      <td>0</td>\n",
              "      <td>0</td>\n",
              "      <td>0</td>\n",
              "      <td>0</td>\n",
              "      <td>0</td>\n",
              "      <td>0</td>\n",
              "      <td>1</td>\n",
              "      <td>0</td>\n",
              "    </tr>\n",
              "    <tr>\n",
              "      <th>2</th>\n",
              "      <td>1003</td>\n",
              "      <td>1</td>\n",
              "      <td>0</td>\n",
              "      <td>1</td>\n",
              "      <td>1</td>\n",
              "      <td>1</td>\n",
              "      <td>0</td>\n",
              "      <td>0</td>\n",
              "      <td>0</td>\n",
              "      <td>1</td>\n",
              "      <td>0</td>\n",
              "      <td>0</td>\n",
              "    </tr>\n",
              "    <tr>\n",
              "      <th>3</th>\n",
              "      <td>1004</td>\n",
              "      <td>1</td>\n",
              "      <td>0</td>\n",
              "      <td>0</td>\n",
              "      <td>0</td>\n",
              "      <td>1</td>\n",
              "      <td>1</td>\n",
              "      <td>1</td>\n",
              "      <td>0</td>\n",
              "      <td>0</td>\n",
              "      <td>0</td>\n",
              "      <td>0</td>\n",
              "    </tr>\n",
              "    <tr>\n",
              "      <th>4</th>\n",
              "      <td>1005</td>\n",
              "      <td>1</td>\n",
              "      <td>1</td>\n",
              "      <td>1</td>\n",
              "      <td>0</td>\n",
              "      <td>1</td>\n",
              "      <td>0</td>\n",
              "      <td>1</td>\n",
              "      <td>0</td>\n",
              "      <td>0</td>\n",
              "      <td>0</td>\n",
              "      <td>0</td>\n",
              "    </tr>\n",
              "  </tbody>\n",
              "</table>\n",
              "</div>"
            ]
          },
          "metadata": {
            "tags": []
          },
          "execution_count": 5
        }
      ]
    },
    {
      "cell_type": "code",
      "metadata": {
        "id": "lz9Rr0GoWMSB",
        "colab_type": "code",
        "colab": {
          "base_uri": "https://localhost:8080/",
          "height": 297
        },
        "outputId": "423f1685-338f-49c3-e7f3-5baad184abed"
      },
      "source": [
        "#Do summary statistics analysis of the data\n",
        "web_clicks_data.describe()"
      ],
      "execution_count": 6,
      "outputs": [
        {
          "output_type": "execute_result",
          "data": {
            "text/plain": [
              "        SESSION_ID      IMAGES  ...  SPONSORED_LINKS         BUY\n",
              "count   500.000000  500.000000  ...       500.000000  500.000000\n",
              "mean   1250.500000    0.510000  ...         0.550000    0.370000\n",
              "std     144.481833    0.500401  ...         0.497992    0.483288\n",
              "min    1001.000000    0.000000  ...         0.000000    0.000000\n",
              "25%    1125.750000    0.000000  ...         0.000000    0.000000\n",
              "50%    1250.500000    1.000000  ...         1.000000    0.000000\n",
              "75%    1375.250000    1.000000  ...         1.000000    1.000000\n",
              "max    1500.000000    1.000000  ...         1.000000    1.000000\n",
              "\n",
              "[8 rows x 12 columns]"
            ],
            "text/html": [
              "<div>\n",
              "<style scoped>\n",
              "    .dataframe tbody tr th:only-of-type {\n",
              "        vertical-align: middle;\n",
              "    }\n",
              "\n",
              "    .dataframe tbody tr th {\n",
              "        vertical-align: top;\n",
              "    }\n",
              "\n",
              "    .dataframe thead th {\n",
              "        text-align: right;\n",
              "    }\n",
              "</style>\n",
              "<table border=\"1\" class=\"dataframe\">\n",
              "  <thead>\n",
              "    <tr style=\"text-align: right;\">\n",
              "      <th></th>\n",
              "      <th>SESSION_ID</th>\n",
              "      <th>IMAGES</th>\n",
              "      <th>REVIEWS</th>\n",
              "      <th>FAQ</th>\n",
              "      <th>SPECS</th>\n",
              "      <th>SHIPPING</th>\n",
              "      <th>BOUGHT_TOGETHER</th>\n",
              "      <th>COMPARE_SIMILAR</th>\n",
              "      <th>VIEW_SIMILAR</th>\n",
              "      <th>WARRANTY</th>\n",
              "      <th>SPONSORED_LINKS</th>\n",
              "      <th>BUY</th>\n",
              "    </tr>\n",
              "  </thead>\n",
              "  <tbody>\n",
              "    <tr>\n",
              "      <th>count</th>\n",
              "      <td>500.000000</td>\n",
              "      <td>500.000000</td>\n",
              "      <td>500.0000</td>\n",
              "      <td>500.000000</td>\n",
              "      <td>500.0000</td>\n",
              "      <td>500.000000</td>\n",
              "      <td>500.000000</td>\n",
              "      <td>500.000000</td>\n",
              "      <td>500.000000</td>\n",
              "      <td>500.000000</td>\n",
              "      <td>500.000000</td>\n",
              "      <td>500.000000</td>\n",
              "    </tr>\n",
              "    <tr>\n",
              "      <th>mean</th>\n",
              "      <td>1250.500000</td>\n",
              "      <td>0.510000</td>\n",
              "      <td>0.5200</td>\n",
              "      <td>0.440000</td>\n",
              "      <td>0.4800</td>\n",
              "      <td>0.528000</td>\n",
              "      <td>0.500000</td>\n",
              "      <td>0.580000</td>\n",
              "      <td>0.468000</td>\n",
              "      <td>0.532000</td>\n",
              "      <td>0.550000</td>\n",
              "      <td>0.370000</td>\n",
              "    </tr>\n",
              "    <tr>\n",
              "      <th>std</th>\n",
              "      <td>144.481833</td>\n",
              "      <td>0.500401</td>\n",
              "      <td>0.5001</td>\n",
              "      <td>0.496884</td>\n",
              "      <td>0.5001</td>\n",
              "      <td>0.499715</td>\n",
              "      <td>0.500501</td>\n",
              "      <td>0.494053</td>\n",
              "      <td>0.499475</td>\n",
              "      <td>0.499475</td>\n",
              "      <td>0.497992</td>\n",
              "      <td>0.483288</td>\n",
              "    </tr>\n",
              "    <tr>\n",
              "      <th>min</th>\n",
              "      <td>1001.000000</td>\n",
              "      <td>0.000000</td>\n",
              "      <td>0.0000</td>\n",
              "      <td>0.000000</td>\n",
              "      <td>0.0000</td>\n",
              "      <td>0.000000</td>\n",
              "      <td>0.000000</td>\n",
              "      <td>0.000000</td>\n",
              "      <td>0.000000</td>\n",
              "      <td>0.000000</td>\n",
              "      <td>0.000000</td>\n",
              "      <td>0.000000</td>\n",
              "    </tr>\n",
              "    <tr>\n",
              "      <th>25%</th>\n",
              "      <td>1125.750000</td>\n",
              "      <td>0.000000</td>\n",
              "      <td>0.0000</td>\n",
              "      <td>0.000000</td>\n",
              "      <td>0.0000</td>\n",
              "      <td>0.000000</td>\n",
              "      <td>0.000000</td>\n",
              "      <td>0.000000</td>\n",
              "      <td>0.000000</td>\n",
              "      <td>0.000000</td>\n",
              "      <td>0.000000</td>\n",
              "      <td>0.000000</td>\n",
              "    </tr>\n",
              "    <tr>\n",
              "      <th>50%</th>\n",
              "      <td>1250.500000</td>\n",
              "      <td>1.000000</td>\n",
              "      <td>1.0000</td>\n",
              "      <td>0.000000</td>\n",
              "      <td>0.0000</td>\n",
              "      <td>1.000000</td>\n",
              "      <td>0.500000</td>\n",
              "      <td>1.000000</td>\n",
              "      <td>0.000000</td>\n",
              "      <td>1.000000</td>\n",
              "      <td>1.000000</td>\n",
              "      <td>0.000000</td>\n",
              "    </tr>\n",
              "    <tr>\n",
              "      <th>75%</th>\n",
              "      <td>1375.250000</td>\n",
              "      <td>1.000000</td>\n",
              "      <td>1.0000</td>\n",
              "      <td>1.000000</td>\n",
              "      <td>1.0000</td>\n",
              "      <td>1.000000</td>\n",
              "      <td>1.000000</td>\n",
              "      <td>1.000000</td>\n",
              "      <td>1.000000</td>\n",
              "      <td>1.000000</td>\n",
              "      <td>1.000000</td>\n",
              "      <td>1.000000</td>\n",
              "    </tr>\n",
              "    <tr>\n",
              "      <th>max</th>\n",
              "      <td>1500.000000</td>\n",
              "      <td>1.000000</td>\n",
              "      <td>1.0000</td>\n",
              "      <td>1.000000</td>\n",
              "      <td>1.0000</td>\n",
              "      <td>1.000000</td>\n",
              "      <td>1.000000</td>\n",
              "      <td>1.000000</td>\n",
              "      <td>1.000000</td>\n",
              "      <td>1.000000</td>\n",
              "      <td>1.000000</td>\n",
              "      <td>1.000000</td>\n",
              "    </tr>\n",
              "  </tbody>\n",
              "</table>\n",
              "</div>"
            ]
          },
          "metadata": {
            "tags": []
          },
          "execution_count": 6
        }
      ]
    },
    {
      "cell_type": "markdown",
      "metadata": {
        "id": "LYiKWj_pWMSJ",
        "colab_type": "text"
      },
      "source": [
        "### Perform Correlation Analysis"
      ]
    },
    {
      "cell_type": "code",
      "metadata": {
        "id": "KopVYEfrWMSL",
        "colab_type": "code",
        "colab": {
          "base_uri": "https://localhost:8080/",
          "height": 238
        },
        "outputId": "c2a7da91-2b41-4349-e967-70c63372ca97"
      },
      "source": [
        "web_clicks_data.corr()['BUY']"
      ],
      "execution_count": 7,
      "outputs": [
        {
          "output_type": "execute_result",
          "data": {
            "text/plain": [
              "SESSION_ID         0.026677\n",
              "IMAGES             0.046819\n",
              "REVIEWS            0.404628\n",
              "FAQ               -0.095136\n",
              "SPECS              0.009950\n",
              "SHIPPING          -0.022239\n",
              "BOUGHT_TOGETHER   -0.103562\n",
              "COMPARE_SIMILAR    0.190522\n",
              "VIEW_SIMILAR      -0.096137\n",
              "WARRANTY           0.179156\n",
              "SPONSORED_LINKS    0.110328\n",
              "BUY                1.000000\n",
              "Name: BUY, dtype: float64"
            ]
          },
          "metadata": {
            "tags": []
          },
          "execution_count": 7
        }
      ]
    },
    {
      "cell_type": "markdown",
      "metadata": {
        "id": "CANLhA6MWMST",
        "colab_type": "text"
      },
      "source": [
        "Looking at the correlations above we can see that some features like REVIEWS, BRO_TOGETHER, COMPARE_SIMILAR, WARRANTY and SPONSORED_LINKS have medium correlation to the target variable. We will reduce our feature set to that list of variables."
      ]
    },
    {
      "cell_type": "code",
      "metadata": {
        "id": "ez1G5o2PWMSU",
        "colab_type": "code",
        "colab": {}
      },
      "source": [
        "#Drop columns with low correlation\n",
        "predictors = web_clicks_data[['REVIEWS','BOUGHT_TOGETHER','COMPARE_SIMILAR','WARRANTY','SPONSORED_LINKS']]\n",
        "targets = web_clicks_data.BUY\n"
      ],
      "execution_count": 8,
      "outputs": []
    },
    {
      "cell_type": "markdown",
      "metadata": {
        "id": "vNncRyJ_WMSb",
        "colab_type": "text"
      },
      "source": [
        "##  Training and Testing Split\n",
        "\n",
        "We now split the model into training and testing data in the ratio of 70:30"
      ]
    },
    {
      "cell_type": "code",
      "metadata": {
        "id": "iFaoatSBWMSc",
        "colab_type": "code",
        "colab": {
          "base_uri": "https://localhost:8080/",
          "height": 34
        },
        "outputId": "e7a2d904-a47c-4f99-f64c-52228c6d711b"
      },
      "source": [
        "pred_train, pred_test, tar_train, tar_test  =   train_test_split(predictors, targets, test_size=.3)\n",
        "\n",
        "print( \"Predictor - Training : \", pred_train.shape, \"Predictor - Testing : \", pred_test.shape )\n"
      ],
      "execution_count": 9,
      "outputs": [
        {
          "output_type": "stream",
          "text": [
            "('Predictor - Training : ', (350, 5), 'Predictor - Testing : ', (150, 5))\n"
          ],
          "name": "stdout"
        }
      ]
    },
    {
      "cell_type": "markdown",
      "metadata": {
        "id": "VZVzLQ86WMSj",
        "colab_type": "text"
      },
      "source": [
        "## Build Model and Check Accuracy"
      ]
    },
    {
      "cell_type": "code",
      "metadata": {
        "id": "VqLabY2PWMSk",
        "colab_type": "code",
        "colab": {
          "base_uri": "https://localhost:8080/",
          "height": 51
        },
        "outputId": "5f113e84-c552-42df-85d4-a1ef8af75c3d"
      },
      "source": [
        "from sklearn.naive_bayes import GaussianNB\n",
        "\n",
        "classifier=GaussianNB()\n",
        "classifier=classifier.fit(pred_train,tar_train)\n",
        "\n",
        "predictions=classifier.predict(pred_test)\n",
        "\n",
        "#Analyze accuracy of predictions\n",
        "sklearn.metrics.confusion_matrix(tar_test,predictions)\n"
      ],
      "execution_count": 10,
      "outputs": [
        {
          "output_type": "execute_result",
          "data": {
            "text/plain": [
              "array([[77, 12],\n",
              "       [32, 29]])"
            ]
          },
          "metadata": {
            "tags": []
          },
          "execution_count": 10
        }
      ]
    },
    {
      "cell_type": "code",
      "metadata": {
        "id": "AjdPC8CHWMSq",
        "colab_type": "code",
        "colab": {
          "base_uri": "https://localhost:8080/",
          "height": 34
        },
        "outputId": "d01f7231-7831-4649-ddd4-a2ecbcb10140"
      },
      "source": [
        "sklearn.metrics.accuracy_score(tar_test, predictions)"
      ],
      "execution_count": 11,
      "outputs": [
        {
          "output_type": "execute_result",
          "data": {
            "text/plain": [
              "0.7066666666666667"
            ]
          },
          "metadata": {
            "tags": []
          },
          "execution_count": 11
        }
      ]
    },
    {
      "cell_type": "markdown",
      "metadata": {
        "id": "DDX0QMIWWMSv",
        "colab_type": "text"
      },
      "source": [
        "Instead of doing a Yes/No prediction, we can instead do a probability computation to show the probability for the web_clicks to buy the product"
      ]
    },
    {
      "cell_type": "code",
      "metadata": {
        "id": "xlKEX8EeWMSw",
        "colab_type": "code",
        "colab": {
          "base_uri": "https://localhost:8080/",
          "height": 34
        },
        "outputId": "c3dc3f5e-e90a-4500-9fd5-5b72b0c5ebc1"
      },
      "source": [
        "pred_prob=classifier.predict_proba(pred_test)\n",
        "pred_prob[0,1]"
      ],
      "execution_count": 12,
      "outputs": [
        {
          "output_type": "execute_result",
          "data": {
            "text/plain": [
              "0.2779231274385168"
            ]
          },
          "metadata": {
            "tags": []
          },
          "execution_count": 12
        }
      ]
    },
    {
      "cell_type": "markdown",
      "metadata": {
        "id": "bnqm4ogkWMS1",
        "colab_type": "text"
      },
      "source": [
        "The probability above can be read as 35% chance that the web_clicks will buy the product."
      ]
    },
    {
      "cell_type": "markdown",
      "metadata": {
        "id": "Uff8MmUBWMS2",
        "colab_type": "text"
      },
      "source": [
        "## Real time predictions\n",
        "\n",
        "Now that the model has been built, let us use it for real time predictions. So when the customer starts visiting the pages one by one, we collect that list and then use it to compute the probability. We do that for every new click that comes in.\n",
        "\n",
        "So let us start. The web_clicks just came to your website. There are no significant clicks. Let us compute the probability. The array of values passed has the values for REVIEWS, BOUGHT_TOGETHER, COMPARE_SIMILAR, WARRANTY and SPONSORED_LINKS. So the array is all zeros to begin with"
      ]
    },
    {
      "cell_type": "code",
      "metadata": {
        "id": "sjQFOzSsWMS3",
        "colab_type": "code",
        "colab": {
          "base_uri": "https://localhost:8080/",
          "height": 34
        },
        "outputId": "205dd11e-7270-4a33-8301-223079249f68"
      },
      "source": [
        "browsing_data = np.array([0,0,0,0,0]).reshape(1, -1)\n",
        "print(\"New visitor: propensity :\",classifier.predict_proba(browsing_data)[:,1] )\n"
      ],
      "execution_count": 13,
      "outputs": [
        {
          "output_type": "stream",
          "text": [
            "('New visitor: propensity :', array([0.04479078]))\n"
          ],
          "name": "stdout"
        }
      ]
    },
    {
      "cell_type": "markdown",
      "metadata": {
        "id": "VK28fRMTWMS-",
        "colab_type": "text"
      },
      "source": [
        "So the initial probability is 4%. Now, suppose the customer does a comparison of similar products. The array changes to include a 1 for that function. The new probability will be"
      ]
    },
    {
      "cell_type": "code",
      "metadata": {
        "id": "mdw0TrqhWMS_",
        "colab_type": "code",
        "colab": {
          "base_uri": "https://localhost:8080/",
          "height": 34
        },
        "outputId": "ad2c5098-deed-4241-868a-bbc639b3297f"
      },
      "source": [
        "browsing_data = np.array([0,0,1,0,0]).reshape(1, -1)\n",
        "print(\"After checking similar products: propensity :\",classifier.predict_proba(browsing_data)[:,1] )\n"
      ],
      "execution_count": 14,
      "outputs": [
        {
          "output_type": "stream",
          "text": [
            "('After checking similar products: propensity :', array([0.13593444]))\n"
          ],
          "name": "stdout"
        }
      ]
    },
    {
      "cell_type": "markdown",
      "metadata": {
        "id": "MfXF2w7hWMTE",
        "colab_type": "text"
      },
      "source": [
        "It goes up. Next, he checks out reviews."
      ]
    },
    {
      "cell_type": "code",
      "metadata": {
        "id": "zrLhiZcqWMTF",
        "colab_type": "code",
        "colab": {
          "base_uri": "https://localhost:8080/",
          "height": 34
        },
        "outputId": "30c47a68-79e8-419b-ca81-954b2f01d870"
      },
      "source": [
        "browsing_data = np.array([1,0,1,0,0]).reshape(1, -1)\n",
        "print(\"After checking reviews: propensity :\",classifier.predict_proba(browsing_data)[:,1] )\n"
      ],
      "execution_count": 15,
      "outputs": [
        {
          "output_type": "stream",
          "text": [
            "('After checking reviews: propensity :', array([0.52138933]))\n"
          ],
          "name": "stdout"
        }
      ]
    },
    {
      "cell_type": "markdown",
      "metadata": {
        "id": "5QbRMpkGWMTN",
        "colab_type": "text"
      },
      "source": [
        "It shoots up to 50+%. You can have a threshold for when you want to offer chat. You can keep checking this probability against that threshold to see if you want to popup a chat window.\n",
        "\n",
        "This example shows you how you can use predictive analytics in real time to decide whether a web_clicks has high propensity to convert and offer him a chat with a sales rep/agent."
      ]
    }
  ]
}